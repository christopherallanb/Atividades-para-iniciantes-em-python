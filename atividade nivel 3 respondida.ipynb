Exercícios
Exercício 1
Alex, Maria e Jonas são objetos do tipo Pessoa que possuem uma infinidade de atributos. Alex precisa fornecer dados para se cadastrar em uma clínica médica, enquanto Maria acredita em esoterismo e está se cadastrando em uma agência esotérica para marcar uma consulta com o vidente. Jonas , por sua vez, está se cadastrando em uma rede social, como vocês podem ver são 3 contextos diferentes. Você será solicitado a modelar os objetos (Alex, Maria e Jonas) em três classes de acordo com o contexto explicado no enunciado, o resultado serão 3 classes e a diferença serão os atributos que você os define através da abstração.

Você pode adicionar um único método que exiba as informações de cada um desses objetos na tela (alex, maria, jonas)

Tomemos como exemplo a seguinte imagem explicada em aula, você pode adicionar atributos se achar necessário

4.PNG

Você deve levar em consideração as seguintes atividades:

Classe Pessoa modelada a partir do aplicativo de cadastro de uma clínica médica
Classe Pessoa modelada a partir do aplicativo de registro de um centro esotérico
Classe Pessoa modelada a partir do aplicativo de cadastro de uma rede social
Criar instâncias dos 3 objetos do tipo Pessoa (Alex, Maria e Jonas)
Mostrar as informações dos objetos através do método mostrar informação

# class pessoa:


# ALEX BEGINNT HIER

class pessoa_alex:
    def __init__(self, nome, idade, peso, sangue):
        self.nome = nome
        self.idade = idade
        self.peso = peso
        self.sangue = sangue

alex = pessoa_alex('alex', 25, 70, 'o+')

print('+-+-+-+-+-+-+-+-+ +-+-+ +-+-+-+ +-+-+-+-+-+-+-+-+')
print('|c|a|d|a|s|t|r|o| |n|o| |a|p|p| |h|o|s|p|i|t|a|l|')
print('+-+-+-+-+-+-+-+-+ +-+-+ +-+-+-+ +-+-+-+-+-+-+-+-+')
print('(\__/)')
print('(•ㅅ•)  ') 
print('/    づ')

print('=-=')

print(' nome ', alex.nome)
print(' idade ', alex.idade, 'anos ')
print(' peso ', alex.peso, 'kg ')
print(' sangue ', alex.sangue)

print('=-=')

##################### ALEX ENDET HIER

##################### MARIA BEGINNT HIER

class pessoa_maria:
    def __init__(self, nome, idade, signo,):
        self.nome = nome
        self.idade = idade
        self.signo = signo


# Corrected instantiation with all parameters
maria = pessoa_maria('maria', 25,'sagitário')


print('+-+-+-+-+-+-+-+-+ +-+-+ +-+-+-+ +-+-+-+-+-+-+-+-+-+')
print('|c|a|d|a|s|t|r|o| |n|o| |a|p|p| |e|s|o|t|e|r|i|c|o|')
print('+-+-+-+-+-+-+-+-+ +-+-+ +-+-+-+ +-+-+-+-+-+-+-+-+-+')
print('(\__/)')
print('(•ㅅ•)  ') 
print('/    づ')


print('=-=')

print(' nome ', maria.nome)
print(' idade ', maria.idade, 'anos ')
print(' signo ', maria.signo)


print('=-=')

##################### MARIA ENDET HIER

########## JONAS BEGINNT HIER

class pessoa_jonas:
    def __init__(self, nome, idade, altura,  cor_dos_olhos, hobbies):
        self.nome = nome
        self.idade = idade
        self.altura = altura
        self.cor_dos_olhos = cor_dos_olhos
        self.hobbies = hobbies

jonas = pessoa_jonas('jonas', 25, 1.60, 'castanhos', 'ler, jogar')

print('+-+-+-+-+-+-+-+-+ +-+-+ +-+-+-+ +-+-+-+-+-+-+')
print('|c|a|d|a|s|t|r|o| |n|o| |a|p|p| |r|e|d|e| |s|o|c|i|a|l|')
print('+-+-+-+-+-+-+-+-+ +-+-+ +-+-+-+ +-+-+-+-+-+-+')
print('(\__/)')
print('(•ㅅ•)  ') 
print('/    づ')

print('=-=')

print(' nome ', jonas.nome)
print(' idade ', jonas.idade, 'anos ')
print(' altura ', jonas.altura, 'm ')
print(' cor dos olhos ', jonas.cor_dos_olhos)
print(' hobbies ', jonas.hobbies)

print('=-=')

########## JONAS ENDET HIER

     
Exercício 2
Temos a imagem a seguir mostrando os diferentes carros que uma loja online possui, defina através de abstração quais atributos e quais métodos o objeto carro_brinquedo deve ter que sejam relevantes para criar a classe de acordo com o contexto da loja online

autos.png

Atividades a serem realizadas:

Criar a classe com os atributos e métodos relevantes através da abstração e contexto de uma loja online
Utilize o construtor para criar instâncias da classe CarroBrinquedo

import random
class CarToy:
    def __init__(self, marca, modelo, linha, escala, tipo_veiculo, material_da_carroceria, abertura_de_portas, preco, outros=None, tipo_pilhas=None, quantidade_pilhas=None):
        self.marca = marca
        self.modelo = modelo
        self.linha = linha
        self.escala = escala
        self.tipo_veiculo = tipo_veiculo
        self.material_da_carroceria = material_da_carroceria
        self.abertura_de_portas = abertura_de_portas
        self.preco = preco
        self.outros = outros
        self.tipo_pilhas = tipo_pilhas
        self.quantidade_pilhas = quantidade_pilhas
    def display_info(self):
        print(f"Marca: {self.marca}")
        print(f"Modelo: {self.modelo}")
        print(f"Linha: {self.linha}")
        print(f"Escala: {self.escala}")
        print(f"Tipo de veículo: {self.tipo_veiculo}")
        print(f"Material da carroceria: {self.material_da_carroceria}")
        print(f"Abertura de portas: {self.abertura_de_portas}")
        print(f"Preço: {self.preco}")
        if self.outros: print(f"Outros: {self.outros}")
        if self.tipo_pilhas: print(f"Tipo de pilhas: {self.tipo_pilhas}")
        if self.quantidade_pilhas: print(f"Quantidade de pilhas: {self.quantidade_pilhas}")
        print()
def evaluate_cars():
    print ('+-+-+-+-+-+-+-+-+-+ +-+-+ +-+-+-+-+-+-+-+-+-+ +-+-+ +-+-+-+-+-+-+')
    print('|B|e|m|-|v|i|n|d|o| |a|o| |A|v|a|l|i|a|d|o|r| |d|e| |C|a|r|r|o|s|!')
    print('+-+-+-+-+-+-+-+-+-+ +-+-+ +-+-+-+-+-+-+-+-+-+ +-+-+ +-+-+-+-+-+-+')
    print('(\__/)')
    print('(•ㅅ•)  ') 
    print('/    づ')
    if input("Você gostaria de avaliar os carros de brinquedo para comprar? (sim/não): ").strip().lower() == 'sim':
        print("\nAvaliando os carros de brinquedo...\n")
        toy_cars = [
            CarToy("Ninho Boy", "Monster", "Controle Remoto 4x4", "1:18", "Carro", "Plástico", "Não", random.randint(10, 200), outros="Inclui pilhas: Não", tipo_pilhas="AA", quantidade_pilhas=2),
            CarToy("Candide", "Super Mario Kart", "Controle Remoto", "1:16", "Carro", "Plástico", "Sim", random.randint(10, 200), "Controlador inclusivo", tipo_pilhas="AA", quantidade_pilhas=2),
            CarToy("Rastar", "Range Rover Evoque", "Carro", "1:24", "Carro", "Plástico", "Não", random.randint(10, 200)),
            CarToy("ToyMaker", "Racing Thunder", "Velozes e Furiosos", "1:16", "Carro", "Metal", "Sim", random.randint(10, 200))
        ]
        for car in toy_cars:
            car.display_info()
            if input("Avaliar próximo carro de brinquedo ou deseja comprar este? (proximo/comprar): ").strip().lower() != "proximo":
                print("Compra realizada!")
                break
evaluate_cars()


     
Exercício 3
Modele um Objeto Conta Bancária, para o qual crie uma classe com os seguintes atributos: titular da conta, saldo em sua conta bancária e o tipo de conta além do tipo de moeda da conta (dólar ou moeda nacional). Atributos como saldo serão, por exemplo, do tipo decimal, e o tipo de conta será do tipo string, então o titular será do tipo pessoa, para isso também precisamos modelar esse objeto (criar a classe Pessoa com os atributos Nome, Identificação, Nacionalidade) portanto o titular será do tipo Pessoa.

Atividades:

Crie a classe Conta Bancária
Crie a classe Pessoa
Crie uma instância da classe Pessoa usando o construtor
Crie uma instância da classe Conta usando o construtor, lembre-se que o atributo titular é do tipo pessoa então a instância criada do tipo pessoa deve ser atribuída a ele.

class pessoa:
    def __init__(self, nome, RG ,  nacionalidade):
        self.nome = nome
        self.nacionalidade = nacionalidade
        self.RG = RG
alex = pessoa ('Alex' , '20.424.186-8' , 'Brasileiro')
print (' bem vindo de volta ao sistema bradesco --->')
print('(\__/)')
print('(•ㅅ•)  ') 
print('/    づ')
print('.')
print('.')
print('.')
print ('dados do titular da conta:   ')
print ('nome: ', alex.nome)
print ('nacionalidade: ', alex.nacionalidade)
print ('RG: ' ,alex.RG)
class conta_bancaria:
    def __init__(self, numero_conta, titular, saldo, tipo_conta, tipo_moeda):
        self.numero_conta = numero_conta
        self.titular = titular
        self.saldo = saldo
        self.tipo_conta = tipo_conta
        self.tipo_moeda = tipo_moeda
conta = conta_bancaria('123-4', alex, 1000, 'corrente', 'real')
print('usuario da conta bancaria: ')
print ('  numero da conta: ', conta.numero_conta)
print ('    nome do titular: ', conta.titular.nome)
print ('      saldo', conta.saldo , 'R$')
print ('        tipo de conta: ', conta.tipo_conta)
print ('          tipo de moeda: ', conta.tipo_moeda)
